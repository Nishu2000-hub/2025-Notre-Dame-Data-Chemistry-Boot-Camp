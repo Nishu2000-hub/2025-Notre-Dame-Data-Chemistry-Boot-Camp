{
  "cells": [
    {
      "cell_type": "markdown",
      "id": "5315398f",
      "metadata": {
        "id": "5315398f"
      },
      "source": [
        "\n",
        "# Quick AI Reports on Chemical Compounds  \n",
        "*Session 4: Automated Report Generation *\n",
        "\n"
      ]
    },
    {
      "cell_type": "markdown",
      "id": "08e9a05c",
      "metadata": {
        "id": "08e9a05c"
      },
      "source": [
        "\n",
        "## 🧪 Introduction\n",
        "\n",
        "In this session, you'll see how AI can auto-generate structured reports for chemists —\n",
        "short one-pagers that summarize and compare two compounds in a readable way.\n",
        "\n",
        "**What we'll do**\n",
        "- Use the OpenAI API to generate a structured report (no external databases).\n",
        "- Keep outputs consistent with a clear template: title, overview, properties (as recalled by the model), similarities/differences, and a brief safety note.\n",
        "- Export the report as a PDF you can download and share.\n",
        "\n",
        "Note: Because we are not querying a database here, treat the generated content as a draft to be verified. In practice, you would pair this with RAG or database calls (like PubChem) for source-grounded facts.\n"
      ]
    },
    {
      "cell_type": "markdown",
      "id": "1103bb99",
      "metadata": {
        "id": "1103bb99"
      },
      "source": [
        "\n",
        "## ✅ Setup (Run this once)\n",
        "\n",
        "This installs lightweight libraries and imports everything we need.\n"
      ]
    },
    {
      "cell_type": "code",
      "execution_count": null,
      "id": "b8472c72",
      "metadata": {
        "id": "b8472c72"
      },
      "outputs": [],
      "source": [
        "\n",
        "%pip -q install openai ipywidgets reportlab\n",
        "\n",
        "import os, textwrap, datetime\n",
        "import ipywidgets as widgets\n",
        "from IPython.display import display, Markdown\n",
        "\n",
        "from openai import OpenAI\n",
        "\n",
        "# ReportLab for creating PDFs\n",
        "\n",
        "from reportlab.lib.pagesizes import LETTER\n",
        "from reportlab.pdfgen import canvas\n",
        "from reportlab.lib.units import inch\n",
        "from reportlab.lib.utils import simpleSplit\n"
      ]
    },
    {
      "cell_type": "markdown",
      "id": "3bf9ced5",
      "metadata": {
        "id": "3bf9ced5"
      },
      "source": [
        "\n",
        "## 🔑 Add Your OpenAI API Key\n",
        "\n",
        "Paste your key and click Save Key. If omitted, a placeholder string appears instead of a real model response.\n"
      ]
    },
    {
      "cell_type": "code",
      "execution_count": null,
      "id": "74538c74",
      "metadata": {
        "id": "74538c74"
      },
      "outputs": [],
      "source": [
        "\n",
        "api_key_box = widgets.Password(description='API Key:', placeholder='sk-...', layout=widgets.Layout(width='40%'))\n",
        "save_btn = widgets.Button(description='Save Key', button_style='primary')\n",
        "status = widgets.HTML(\"\")\n",
        "\n",
        "def save_key(_):\n",
        "    if api_key_box.value.strip():\n",
        "        os.environ[\"OPENAI_API_KEY\"] = api_key_box.value.strip()\n",
        "        status.value = \"<span style='color:green'>Key saved for this session.</span>\"\n",
        "    else:\n",
        "        status.value = \"<span style='color:#B00020'>Please paste a valid key.</span>\"\n",
        "\n",
        "save_btn.on_click(save_key)\n",
        "display(widgets.HBox([api_key_box, save_btn]), status)\n"
      ]
    },
    {
      "cell_type": "markdown",
      "id": "bdcad8b5",
      "metadata": {
        "id": "bdcad8b5"
      },
      "source": [
        "\n",
        "## 🧩 Helpers\n",
        "\n",
        "- generate_report(compA, compB, style_hint) — ask the model for a structured one-pager.\n",
        "- save_report_pdf(text, filename) — save the generated text to PDF.\n"
      ]
    },
    {
      "cell_type": "code",
      "execution_count": null,
      "id": "735082bb",
      "metadata": {
        "id": "735082bb"
      },
      "outputs": [],
      "source": [
        "\n",
        "def _client():\n",
        "    key = os.environ.get(\"OPENAI_API_KEY\")\n",
        "    return OpenAI(api_key=key) if key else None\n",
        "\n",
        "# Defines the system role for the AI → instructs it to write short, structured reports\n",
        "REPORT_SYSTEM = (\n",
        "    \"You are a helpful chemistry assistant. Generate a SHORT, well-structured one-page report \"\n",
        "    \"comparing two compounds for non-expert chemists. Use clear sections and concise sentences.\"\n",
        ")\n",
        "#Builds the prompt text that we send to the model.\n",
        "#always consistent: title, overview, properties, similarities/differences, notes, summary.\n",
        "\n",
        "def _report_prompt(compA: str, compB: str, style_hint: str = \"\") -> str:\n",
        "    today = datetime.date.today().isoformat()\n",
        "    style = f\" Style hint: {style_hint.strip()}\" if style_hint else \"\"\n",
        "    return f\"\"\"\n",
        "Title: Quick Report - {compA} vs {compB} (Draft)\n",
        "Date: {today}\n",
        "\n",
        "Sections to include (concise, bullet-friendly):\n",
        "1) Overview (1–2 sentences per compound).\n",
        "2) Common/Rough Properties (what chemists typically check: use, class, notable functional groups, MW/logP if commonly known; keep general).\n",
        "3) Similarities & Differences (3–6 bullets total).\n",
        "4) Practical Notes (1–3 bullets: handling, typical uses, cautions).\n",
        "5) Short Summary (1–2 sentences).\n",
        "\n",
        "Rules:\n",
        "- Plain, non-jargon language where possible.\n",
        "- Keep to ~200–300 words total.\n",
        "- If you are not sure, say so briefly (e.g., \"uncertain; verify\").\n",
        "- Do NOT fabricate citations.{style}\n",
        "\n",
        "Now write the report.\n",
        "\"\"\"\n",
        "\n",
        "def generate_report(compA: str, compB: str, style_hint: str = \"\", model: str = \"gpt-4o-mini\") -> str:\n",
        "    client = _client()\n",
        "    prompt = _report_prompt(compA, compB, style_hint)\n",
        "    if client is None:\n",
        "        return textwrap.dedent(f\"\"\"\n",
        "        Quick Report - {compA} vs {compB} (Draft)\n",
        "\n",
        "        Overview:\n",
        "        A brief, readable comparison of {compA} and {compB}. (Demo mode - add an API key for real content.)\n",
        "\n",
        "        Common/Rough Properties:\n",
        "        • Typical properties and uses (placeholder).\n",
        "        • Add MW/logP only if commonly known; otherwise mark as \"verify\".\n",
        "\n",
        "        Similarities & Differences:\n",
        "        • Example bullets contrasting class, effects, or structure.\n",
        "\n",
        "        Practical Notes:\n",
        "        • Basic handling notes for non-experts.\n",
        "\n",
        "        Summary:\n",
        "        • Short 1–2 sentence wrap-up. (Demo mode)\n",
        "        \"\"\")\n",
        "    try:\n",
        "        resp = client.chat.completions.create(\n",
        "            model=model,\n",
        "            messages=[\n",
        "                {\"role\": \"system\", \"content\": REPORT_SYSTEM},\n",
        "                {\"role\": \"user\", \"content\": prompt},\n",
        "            ],\n",
        "        )\n",
        "        return resp.choices[0].message.content.strip()\n",
        "    except Exception as e:\n",
        "        return f\"*API error:* {e}\"\n",
        "\n",
        "def save_report_pdf(text: str, filename: str) -> str:\n",
        "    path = f\"{filename}\"\n",
        "    c = canvas.Canvas(path, pagesize=LETTER)\n",
        "    width, height = LETTER\n",
        "\n",
        "    x_margin = 0.8 * inch\n",
        "    y_margin = 0.8 * inch\n",
        "    max_width = width - 2*x_margin\n",
        "    y = height - y_margin\n",
        "\n",
        "    c.setFont(\"Times-Roman\", 12)\n",
        "\n",
        "    from reportlab.lib.utils import simpleSplit\n",
        "    lines = []\n",
        "    for paragraph in text.splitlines():\n",
        "        wrapped = simpleSplit(paragraph, \"Times-Roman\", 12, max_width)\n",
        "        lines.extend(wrapped if wrapped else [\"\"])\n",
        "\n",
        "    for line in lines:\n",
        "        if y < y_margin:\n",
        "            c.showPage()\n",
        "            c.setFont(\"Times-Roman\", 12)\n",
        "            y = height - y_margin\n",
        "        c.drawString(x_margin, y, line)\n",
        "        y -= 14\n",
        "\n",
        "    c.save()\n",
        "    return path\n"
      ]
    },
    {
      "cell_type": "markdown",
      "id": "af149f27",
      "metadata": {
        "id": "af149f27"
      },
      "source": [
        "\n",
        "## 💡 Demo — One-Pager (Aspirin vs Ibuprofen)\n",
        "\n",
        "Click Generate Demo Report to produce a concise, structured one-pager using only the OpenAI API.\n",
        "You can tweak style with the optional hint (e.g., \"bullet-heavy, clinical tone\").\n"
      ]
    },
    {
      "cell_type": "code",
      "execution_count": null,
      "id": "254e3b9b",
      "metadata": {
        "id": "254e3b9b"
      },
      "outputs": [],
      "source": [
        "\n",
        "demo_style = widgets.Text(placeholder=\"Optional style hint (e.g., 'bullet-heavy, clinical tone')\",\n",
        "                          layout=widgets.Layout(width=\"60%\"))\n",
        "model_pick = widgets.Dropdown(\n",
        "    options=[(\"gpt-4o-mini (fast)\",\"gpt-4o-mini\"),\n",
        "             (\"gpt-4o (quality)\",\"gpt-4o\"),\n",
        "             (\"gpt-3.5-turbo (legacy)\",\"gpt-3.5-turbo\")],\n",
        "    value=\"gpt-4o-mini\", description=\"Model:\"\n",
        ")\n",
        "demo_btn = widgets.Button(description=\"Generate Demo Report\", button_style=\"success\")\n",
        "demo_out = widgets.Output()\n",
        "display(demo_style, model_pick, demo_btn, demo_out)\n",
        "\n",
        "def run_demo(_):\n",
        "    demo_out.clear_output()\n",
        "    with demo_out:\n",
        "        display(Markdown(\"Generating report for **Aspirin vs Ibuprofen** ...\"))\n",
        "    text = generate_report(\"Aspirin\", \"Ibuprofen\", style_hint=demo_style.value, model=model_pick.value)\n",
        "    pdf_path = save_report_pdf(text, \"Report_Aspirin_vs_Ibuprofen.pdf\")\n",
        "    demo_out.clear_output()\n",
        "    with demo_out:\n",
        "        display(Markdown(\"### Report (Preview)\"))\n",
        "        display(Markdown(f\"```{text}```\"))\n",
        "        display(Markdown(f\"[Download PDF](sandbox:{pdf_path})\"))\n",
        "\n",
        "demo_btn.on_click(run_demo)\n"
      ]
    },
    {
      "cell_type": "markdown",
      "id": "a58e9ebd",
      "metadata": {
        "id": "a58e9ebd"
      },
      "source": [
        "\n",
        "## ✍️ Exercise — Your Own Pair\n",
        "\n",
        "Type any two compound names and generate a one-pager.\n",
        "Keep in mind this is not database-grounded; it is a quick draft to organize thinking.\n",
        "\n",
        "Prompting tip: Add a brief style hint to change tone/format (e.g., \"more bullets, less prose\").\n"
      ]
    },
    {
      "cell_type": "code",
      "execution_count": null,
      "id": "bb5a12b3",
      "metadata": {
        "id": "bb5a12b3"
      },
      "outputs": [],
      "source": [
        "\n",
        "left = widgets.Text(placeholder=\"e.g., Caffeine\", description=\"Left:\")\n",
        "right = widgets.Text(placeholder=\"e.g., Nicotine\", description=\"Right:\")\n",
        "style = widgets.Text(placeholder=\"Optional style hint\", description=\"Style:\")\n",
        "go_btn = widgets.Button(description=\"Generate Report\", button_style=\"primary\")\n",
        "ex_out = widgets.Output()\n",
        "\n",
        "display(left, right, style, model_pick, go_btn, ex_out)\n",
        "\n",
        "def run_ex(_):\n",
        "    ex_out.clear_output()\n",
        "    a, b = left.value.strip(), right.value.strip()\n",
        "    if not a or not b:\n",
        "        with ex_out: display(Markdown(\"Please enter both names.\")); return\n",
        "    with ex_out: display(Markdown(f\"Generating report for **{a} vs {b}** ...\"))\n",
        "    text = generate_report(a, b, style_hint=style.value, model=model_pick.value)\n",
        "    safe = (a + \"_vs_\" + b).replace(\" \", \"_\")\n",
        "    pdf_path = save_report_pdf(text, f\"Report_{safe}.pdf\")\n",
        "    ex_out.clear_output()\n",
        "    with ex_out:\n",
        "        display(Markdown(\"### Report (Preview)\"))\n",
        "        display(Markdown(f\"```{text}```\"))\n",
        "        display(Markdown(f\"[Download PDF](sandbox:{pdf_path})\"))\n",
        "\n",
        "go_btn.on_click(run_ex)\n"
      ]
    },
    {
      "cell_type": "markdown",
      "id": "b55ddbcb",
      "metadata": {
        "id": "b55ddbcb"
      },
      "source": [
        "\n",
        "## 📘 Reflection\n",
        "- Which parts of the AI report were most useful for you?\n",
        "- Which statements would you verify before using (and how)?\n",
        "- If you combined this with Session 2/3 retrieval, what extra reliability would you gain?\n"
      ]
    }
  ],
  "metadata": {
    "colab": {
      "provenance": []
    },
    "language_info": {
      "name": "python"
    },
    "kernelspec": {
      "name": "python3",
      "display_name": "Python 3"
    }
  },
  "nbformat": 4,
  "nbformat_minor": 5
}