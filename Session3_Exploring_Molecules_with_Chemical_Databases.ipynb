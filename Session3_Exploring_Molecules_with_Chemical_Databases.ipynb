{
  "cells": [
    {
      "cell_type": "markdown",
      "id": "f19f4bb2",
      "metadata": {
        "id": "f19f4bb2"
      },
      "source": [
        "\n",
        "# Exploring Molecules with Chemical Databases  \n",
        "*Session 3: Integrating PubChem Queries*\n",
        "\n"
      ]
    },
    {
      "cell_type": "markdown",
      "id": "1f173466",
      "metadata": {
        "id": "1f173466"
      },
      "source": [
        "\n",
        "## 🧪 Introduction\n",
        "\n",
        "In this session, you'll use **chemical databases** to fetch molecular information programmatically.\n",
        "\n",
        "- **PubChem** (NIH): open database of chemical molecules and their properties (identifiers, SMILES, molecular weight, logP, etc.).  \n",
        "\n",
        "\n",
        "**What you'll do**\n",
        "- Run a **demo** query for *aspirin* (or *caffeine*) from **PubChem**.  \n",
        "- See key properties:\n",
        "  - **SMILES**, **Molecular Weight (MW)**, **logP** (a proxy for hydrophobicity).  \n",
        "- Then try your **own molecule** and render results in a clean table.  \n",
        "- Guiding question: **“Based on logP, which molecule is more hydrophobic?”**\n"
      ]
    },
    {
      "cell_type": "markdown",
      "id": "811a5c55",
      "metadata": {
        "id": "811a5c55"
      },
      "source": [
        "\n",
        "## ✅ Setup (Run this once)\n",
        "- Install small dependencies\n",
        "- Import helper libraries\n"
      ]
    },
    {
      "cell_type": "code",
      "execution_count": null,
      "id": "7b59b177",
      "metadata": {
        "id": "7b59b177"
      },
      "outputs": [],
      "source": [
        "# We use 'requests' to call PubChem's web API (PUG REST) and 'pandas' to show tidy tables.\n",
        "# Widgets are for simple UI controls (text boxes, buttons) in the notebook.\n",
        "!pip -q install ipywidgets pandas requests\n",
        "\n",
        "import os, json, math\n",
        "import ipywidgets as widgets\n",
        "import pandas as pd\n",
        "import requests\n",
        "from IPython.display import display, Markdown\n"
      ]
    },
    {
      "cell_type": "markdown",
      "id": "3133ba78",
      "metadata": {
        "id": "3133ba78"
      },
      "source": [
        "\n",
        "## 🧩 Helper Functions (What these do)\n",
        "- `pubchem_props_by_name(name)` → uses **PubChem PUG REST** to get **CID** and properties (SMILES, MW, XLogP).  \n",
        "- `format_props_table(records)` → turns results into a **pandas DataFrame** for a clean table view.  \n",
        "- If the web call fails (no internet / bad name), you get a **friendly message** instead of a crash.\n"
      ]
    },
    {
      "cell_type": "code",
      "execution_count": null,
      "id": "285ca887",
      "metadata": {
        "id": "285ca887"
      },
      "outputs": [],
      "source": [
        "# PubChem PUG REST root. We append specific paths for name→CID and CID→properties calls.\n",
        "PUBCHEM_BASE = \"https://pubchem.ncbi.nlm.nih.gov/rest/pug\"\n",
        "\n",
        "def pubchem_props_by_name(name: str):\n",
        "   \"\"\"\n",
        "    Chemistry context:\n",
        "      - PubChem stores molecules under a CID (Compound ID).\n",
        "      - We first resolve the common name (e.g., \"aspirin\") to a CID.\n",
        "      - Then, we fetch key properties: SMILES (a text encoding of structure),\n",
        "        Molecular Weight (g/mol), and XLogP (estimate of lipophilicity; higher ⇒ more hydrophobic).\n",
        "\n",
        "    Returns a dict for a single molecule with:\n",
        "      input (the name you typed), cid, smiles, mw (g/mol), logP (unitless),\n",
        "      or an 'error' message if PubChem can't find it.\n",
        "    \"\"\"\n",
        "    try:\n",
        "         # 1) Resolve common name → CID (Compound ID).\n",
        "        #    Example: /compound/name/aspirin/cids/JSON  → gives back the CID (e.g., 2244)\n",
        "        cid_url = f\"{PUBCHEM_BASE}/compound/name/{requests.utils.quote(name)}/cids/JSON\"\n",
        "        r = requests.get(cid_url, timeout=20, headers={\"Accept\": \"application/json\"})\n",
        "        r.raise_for_status()\n",
        "        data = r.json().get(\"IdentifierList\", {}).get(\"CID\", [])\n",
        "        if not data:\n",
        "            return {\"input\": name, \"error\": \"No CID found for this name.\"}\n",
        "        cid = data[0]\n",
        "\n",
        "        # 2) CID -> properties\n",
        "        prop_url = (f\"{PUBCHEM_BASE}/compound/cid/{cid}/property/\"\n",
        "                f\"IsomericSMILES,CanonicalSMILES,MolecularWeight,XLogP/JSON\")\n",
        "        r2 = requests.get(prop_url, timeout=20, headers={\"Accept\": \"application/json\"})\n",
        "        r2.raise_for_status()\n",
        "        props = r2.json().get(\"PropertyTable\", {}).get(\"Properties\", [])\n",
        "        if not props:\n",
        "            return {\"input\": name, \"cid\": cid, \"error\": \"No properties returned for this CID.\"}\n",
        "        p = props[0]\n",
        "\n",
        "         # Choose the first available SMILES string.\n",
        "\n",
        "        smiles = p.get(\"IsomericSMILES\") or p.get(\"CanonicalSMILES\")\n",
        "        if not smiles:\n",
        "          smiles = _fallback_smiles_from_pug_view(cid)\n",
        "          if smiles:\n",
        "            print(\"DEBUG: SMILES recovered from PUG-View.\")\n",
        "          else:\n",
        "            print(\"DEBUG: SMILES still missing after fallback.\")\n",
        "        return {\n",
        "            \"input\": name,\n",
        "            \"cid\": cid,\n",
        "            \"smiles\": smiles,\n",
        "            \"mw\": p.get(\"MolecularWeight\"),\n",
        "            \"logP\": p.get(\"XLogP\"),\n",
        "        }\n",
        "\n",
        "    except Exception as e:\n",
        "        return {\"input\": name, \"error\": f\"Request failed: {e}\"}\n",
        "\n",
        "def format_props_table(records):\n",
        "    rows = []\n",
        "    for rec in records:\n",
        "        rows.append({\n",
        "            \"Input\": rec.get(\"input\"),\n",
        "            \"CID\": rec.get(\"cid\", \"\"),\n",
        "            \"SMILES\": rec.get(\"smiles\", \"\"),\n",
        "            \"Molecular Weight\": rec.get(\"mw\", \"\"),\n",
        "            \"logP (XLogP)\": rec.get(\"logP\", \"\"),\n",
        "            \"Error\": rec.get(\"error\", \"\")\n",
        "        })\n",
        "    df = pd.DataFrame(rows, columns=[\"Input\",\"CID\",\"SMILES\",\"Molecular Weight\",\"logP (XLogP)\",\"Error\"])\n",
        "    return df\n"
      ]
    },
    {
      "cell_type": "markdown",
      "id": "b6fd5c18",
      "metadata": {
        "id": "b6fd5c18"
      },
      "source": [
        "\n",
        "## 💡 Demo — Query a known compound (Aspirin)\n",
        "\n",
        "Click **Fetch** to query **PubChem** for *aspirin* or switch to *caffeine* using the dropdown.  \n",
        "We’ll display **SMILES**, **MW**, **logP**, and a short explanation.\n"
      ]
    },
    {
      "cell_type": "code",
      "execution_count": null,
      "id": "76852be3",
      "metadata": {
        "id": "76852be3"
      },
      "outputs": [],
      "source": [
        "# Chemist-facing UI:\n",
        "# - Pick aspirin/caffeine and click Fetch.\n",
        "# - Under the hood: name → CID → properties from PubChem.\n",
        "# - We then display a tidy table and a short chemistry summary (SMILES, MW, logP).\n",
        "\n",
        "demo_pick = widgets.Dropdown(\n",
        "    options=[(\"aspirin\",\"aspirin\"), (\"caffeine\",\"caffeine\")],\n",
        "    value=\"aspirin\", description=\"Compound:\"\n",
        ")\n",
        "demo_btn = widgets.Button(description=\"Fetch\", button_style=\"success\")\n",
        "demo_out = widgets.Output()\n",
        "\n",
        "def on_demo(_):\n",
        "    demo_out.clear_output()\n",
        "    name = demo_pick.value.strip()\n",
        "    with demo_out:\n",
        "        display(Markdown(f\"⏳ Querying PubChem for **{name}** ...\"))\n",
        "    rec = pubchem_props_by_name(name)\n",
        "    df = format_props_table([rec])\n",
        "    demo_out.clear_output()\n",
        "    with demo_out:\n",
        "        display(Markdown(\"### Results (PubChem)\"))\n",
        "        display(df)\n",
        "        if not rec.get(\"error\"):\n",
        "            lp = rec.get(\"logP\", None)\n",
        "            extra = \"\"\n",
        "            if lp is not None and lp != \"\":\n",
        "                extra = f\" A higher logP typically indicates a **more hydrophobic** molecule.\"\n",
        "            display(Markdown(\n",
        "                f\"**Plain-English explanation:**\\n\\n\"\n",
        "                f\"- **SMILES** encodes structure as text.\\n\"\n",
        "                f\"- **Molecular Weight** helps estimate mass-related properties.\\n\"\n",
        "                f\"- **logP (XLogP)** estimates lipophilicity (hydrophobicity).{extra}\"\n",
        "            ))\n",
        "        else:\n",
        "            display(Markdown(f\"**Note:** {rec['error']}\"))\n",
        "\n",
        "demo_btn.on_click(on_demo)\n",
        "display(widgets.HBox([demo_pick, demo_btn]), demo_out)\n"
      ]
    },
    {
      "cell_type": "markdown",
      "source": [
        "Normally, you’ll just look at the clean results table (SMILES, MW, logP).\n",
        "But sometimes values may look missing, or you might be curious about what PubChem actually sends back.\n",
        "Below is an optional toggle: if you check it, you’ll see the raw JSON straight from the PubChem API. This is exactly what our code is parsing behind the scenes."
      ],
      "metadata": {
        "id": "WR_AI9Pj8YyY"
      },
      "id": "WR_AI9Pj8YyY"
    },
    {
      "cell_type": "code",
      "source": [
        "import ipywidgets as widgets\n",
        "from IPython.display import display, Markdown\n",
        "import json, requests\n",
        "\n",
        "# Checkbox for showing raw JSON\n",
        "raw_toggle = widgets.Checkbox(value=False, description=\"Show raw JSON\")\n",
        "raw_out = widgets.Output()\n",
        "display(raw_toggle, raw_out)\n",
        "\n",
        "def show_raw_json(change=None):\n",
        "    raw_out.clear_output()\n",
        "    if raw_toggle.value:\n",
        "        with raw_out:\n",
        "            display(Markdown(\"**Raw JSON output from PubChem API:**\"))\n",
        "            print(json.dumps(resp, indent=2)[:2000])  # truncated for readability\n",
        "\n",
        "# Example: directly request aspirin properties again\n",
        "cid = 2244\n",
        "url = f\"{PUBCHEM_BASE}/compound/cid/{cid}/property/IsomericSMILES,CanonicalSMILES,SMILES,ConnectivitySMILES,MolecularWeight,XLogP/JSON\"\n",
        "resp = requests.get(url).json()\n",
        "\n",
        "# Connect the toggle to the function\n",
        "raw_toggle.observe(show_raw_json, names='value')"
      ],
      "metadata": {
        "id": "jG96AAcZ8Lg9"
      },
      "id": "jG96AAcZ8Lg9",
      "execution_count": null,
      "outputs": []
    },
    {
      "cell_type": "markdown",
      "id": "ab349fa2",
      "metadata": {
        "id": "ab349fa2"
      },
      "source": [
        "\n",
        "## ✍️ Exercise — Your Molecule(s)\n",
        "\n",
        "- Type the **name** of a molecule (e.g., *ibuprofen*, *nicotine*, *paracetamol*).  \n",
        "- Optionally type a **second** molecule to compare **logP** (hydrophobicity).  \n",
        "- Click **Run** → We’ll query **PubChem**, and show a **table** of properties.\n",
        "\n",
        "**Guiding task:** “Based on logP, which molecule is more hydrophobic?”\n"
      ]
    },
    {
      "cell_type": "code",
      "execution_count": null,
      "id": "6262c008",
      "metadata": {
        "id": "6262c008"
      },
      "outputs": [],
      "source": [
        "\n",
        "mol1 = widgets.Text(placeholder=\"e.g., ibuprofen\", description=\"Mol A:\")\n",
        "mol2 = widgets.Text(placeholder=\"(optional) e.g., paracetamol\", description=\"Mol B:\")\n",
        "run_btn = widgets.Button(description=\"Run\", button_style=\"primary\")\n",
        "ex_out = widgets.Output()\n",
        "\n",
        "def on_run(_):\n",
        "    ex_out.clear_output()\n",
        "    names = [n.strip() for n in [mol1.value, mol2.value] if n.strip()]\n",
        "    if not names:\n",
        "        with ex_out: display(Markdown(\"*Please type at least one molecule name.*\")); return\n",
        "\n",
        "    with ex_out: display(Markdown(\"⏳ Querying PubChem ...\"))\n",
        "# Call PubChem for each input independently (parallelization not needed here for clarity)\n",
        "\n",
        "    recs = [pubchem_props_by_name(n) for n in names]\n",
        "    df = format_props_table(recs)\n",
        "\n",
        "    ex_out.clear_output()\n",
        "    with ex_out:\n",
        "        display(Markdown(\"### Your Results\"))\n",
        "        display(df)\n",
        "        valid = [r for r in recs if not r.get(\"error\") and isinstance(r.get(\"logP\"), (int,float))]\n",
        "        if len(valid) >= 2:\n",
        "            sorted_lp = sorted(valid, key=lambda r: (r.get(\"logP\") if r.get(\"logP\") is not None else float(\"-inf\")), reverse=True)\n",
        "            top = sorted_lp[0]\n",
        "            display(Markdown(\n",
        "                f\"**Hydrophobicity hint:** Based on **logP**, **{top['input']}** appears **more hydrophobic** \"\n",
        "                f\"(logP ≈ {top['logP']}).\"\n",
        "            ))\n",
        "\n",
        "\n",
        "run_btn.on_click(on_run)\n",
        "display(mol1, mol2, run_btn, ex_out)\n"
      ]
    },
    {
      "cell_type": "markdown",
      "id": "8022a263",
      "metadata": {
        "id": "8022a263"
      },
      "source": [
        "\n",
        "## 📘 Reflection\n",
        "- Did the **logP** values align with your expectations of hydrophobicity?  \n",
        "- Were any names ambiguous or missing? How would you disambiguate (IUPAC name, CID, or structure)?  \n",
        "- How might you extend this to **batch queries** for a set of candidate molecules?\n"
      ]
    }
  ],
  "metadata": {
    "colab": {
      "provenance": []
    },
    "language_info": {
      "name": "python"
    },
    "kernelspec": {
      "name": "python3",
      "display_name": "Python 3"
    }
  },
  "nbformat": 4,
  "nbformat_minor": 5
}